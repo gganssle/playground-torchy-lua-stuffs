{
 "cells": [
  {
   "cell_type": "code",
   "execution_count": 1,
   "metadata": {
    "collapsed": true
   },
   "outputs": [],
   "source": [
    "require \"nn\"\n",
    "mlp = nn.Sequential();  -- make a multi-layer perceptron\n",
    "inputs = 2; outputs = 1; HUs = 20; -- parameters\n",
    "mlp:add(nn.Linear(inputs, HUs))\n",
    "mlp:add(nn.Tanh())\n",
    "mlp:add(nn.Linear(HUs, outputs))"
   ]
  },
  {
   "cell_type": "code",
   "execution_count": 2,
   "metadata": {
    "collapsed": true
   },
   "outputs": [],
   "source": [
    "criterion = nn.MSECriterion()"
   ]
  },
  {
   "cell_type": "code",
   "execution_count": 3,
   "metadata": {
    "collapsed": true
   },
   "outputs": [],
   "source": [
    "\n",
    "for i = 1,2500 do\n",
    "  -- random sample\n",
    "  local input= torch.randn(2);     -- normally distributed example in 2d\n",
    "  local output= torch.Tensor(1);\n",
    "  if input[1]*input[2] > 0 then  -- calculate label for XOR function\n",
    "    output[1] = -1\n",
    "  else\n",
    "    output[1] = 1\n",
    "  end\n",
    "\n",
    "  -- feed it to the neural network and the criterion\n",
    "  criterion:forward(mlp:forward(input), output)\n",
    "\n",
    "  -- train over this example in 3 steps\n",
    "  -- (1) zero the accumulation of the gradients\n",
    "  mlp:zeroGradParameters()\n",
    "  -- (2) accumulate gradients\n",
    "  mlp:backward(input, criterion:backward(mlp.output, output))\n",
    "  -- (3) update parameters with a 0.01 learning rate\n",
    "  mlp:updateParameters(0.01)\n",
    "end"
   ]
  },
  {
   "cell_type": "code",
   "execution_count": 4,
   "metadata": {
    "collapsed": false
   },
   "outputs": [
    {
     "data": {
      "text/plain": [
       "-0.4762\n",
       "[torch.DoubleTensor of size 1]\n",
       "\n",
       " 0.8287\n",
       "[torch.DoubleTensor of size 1]\n",
       "\n",
       " 0.6775\n",
       "[torch.DoubleTensor of size 1]\n",
       "\n",
       "-0.6039\n",
       "[torch.DoubleTensor of size 1]\n",
       "\n"
      ]
     },
     "execution_count": 4,
     "metadata": {},
     "output_type": "execute_result"
    }
   ],
   "source": [
    "x = torch.Tensor(2)\n",
    "x[1] =  0.5; x[2] =  0.5; print(mlp:forward(x))\n",
    "x[1] =  0.5; x[2] = -0.5; print(mlp:forward(x))\n",
    "x[1] = -0.5; x[2] =  0.5; print(mlp:forward(x))\n",
    "x[1] = -0.5; x[2] = -0.5; print(mlp:forward(x))"
   ]
  },
  {
   "cell_type": "code",
   "execution_count": null,
   "metadata": {
    "collapsed": true
   },
   "outputs": [],
   "source": []
  }
 ],
 "metadata": {
  "kernelspec": {
   "display_name": "iTorch",
   "language": "lua",
   "name": "itorch"
  },
  "language_info": {
   "name": "lua",
   "version": "5.1"
  }
 },
 "nbformat": 4,
 "nbformat_minor": 1
}
